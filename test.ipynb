{
 "cells": [
  {
   "cell_type": "code",
   "execution_count": 1,
   "metadata": {
    "collapsed": true,
    "ExecuteTime": {
     "start_time": "2023-04-26T17:47:30.653497Z",
     "end_time": "2023-04-26T17:47:35.231766Z"
    }
   },
   "outputs": [],
   "source": [
    "import argparse\n",
    "import json\n",
    "import datetime as dt\n",
    "import numpy as np\n",
    "from scipy.io.wavfile import write\n",
    "\n",
    "import torch\n",
    "\n",
    "import params\n",
    "from model import GradTTS\n",
    "from text import text_to_sequence, cmudict\n",
    "from text.symbols import symbols\n",
    "from utils import intersperse\n",
    "\n",
    "import sys\n",
    "sys.path.append('hifi/')\n",
    "from env import AttrDict\n",
    "from models import Generator as HiFiGAN\n",
    "\n",
    "\n",
    "HIFIGAN_CONFIG = './checkpts/hifigan-config.json'\n",
    "HIFIGAN_CHECKPT = './checkpts/hifigan.pt'"
   ]
  },
  {
   "cell_type": "code",
   "execution_count": 2,
   "outputs": [],
   "source": [
    "import torch\n",
    "from model import monotonic_align\n",
    "import numpy as np"
   ],
   "metadata": {
    "collapsed": false,
    "ExecuteTime": {
     "start_time": "2023-04-26T17:47:35.230471Z",
     "end_time": "2023-04-26T17:47:35.244472Z"
    }
   }
  },
  {
   "cell_type": "code",
   "execution_count": 58,
   "outputs": [],
   "source": [
    "neg_cent, mask = torch.load(\"1.pt\"), torch.load(\"2.pt\")"
   ],
   "metadata": {
    "collapsed": false,
    "ExecuteTime": {
     "start_time": "2023-04-25T17:25:05.385159Z",
     "end_time": "2023-04-25T17:25:05.464216Z"
    }
   }
  },
  {
   "cell_type": "code",
   "execution_count": 60,
   "outputs": [
    {
     "data": {
      "text/plain": "torch.Size([16, 379, 1356])"
     },
     "execution_count": 60,
     "metadata": {},
     "output_type": "execute_result"
    }
   ],
   "source": [
    "mask.shape"
   ],
   "metadata": {
    "collapsed": false,
    "ExecuteTime": {
     "start_time": "2023-04-25T17:25:15.406323Z",
     "end_time": "2023-04-25T17:25:15.429032Z"
    }
   }
  },
  {
   "cell_type": "code",
   "execution_count": 62,
   "outputs": [
    {
     "data": {
      "text/plain": "tensor([ 647.,  758.,  715.,  833.,  857.,  855.,  739.,  401.,  845.,  639.,\n         805., 1354.,  852.,  775.,  419.,  781.], device='cuda:0')"
     },
     "execution_count": 62,
     "metadata": {},
     "output_type": "execute_result"
    }
   ],
   "source": [
    "mask.sum(2)[:, 0]"
   ],
   "metadata": {
    "collapsed": false,
    "ExecuteTime": {
     "start_time": "2023-04-25T17:25:30.526060Z",
     "end_time": "2023-04-25T17:25:30.573655Z"
    }
   }
  },
  {
   "cell_type": "code",
   "execution_count": 63,
   "outputs": [
    {
     "data": {
      "text/plain": "torch.Size([16, 379])"
     },
     "execution_count": 63,
     "metadata": {},
     "output_type": "execute_result"
    }
   ],
   "source": [
    "mask.sum(2).shape"
   ],
   "metadata": {
    "collapsed": false,
    "ExecuteTime": {
     "start_time": "2023-04-25T17:25:44.537081Z",
     "end_time": "2023-04-25T17:25:44.590532Z"
    }
   }
  },
  {
   "cell_type": "code",
   "execution_count": 64,
   "outputs": [
    {
     "data": {
      "text/plain": "torch.Size([16, 379, 1356])"
     },
     "execution_count": 64,
     "metadata": {},
     "output_type": "execute_result"
    }
   ],
   "source": [
    "mask.shape"
   ],
   "metadata": {
    "collapsed": false,
    "ExecuteTime": {
     "start_time": "2023-04-25T17:25:51.460002Z",
     "end_time": "2023-04-25T17:25:51.510672Z"
    }
   }
  },
  {
   "cell_type": "code",
   "execution_count": null,
   "outputs": [],
   "source": [],
   "metadata": {
    "collapsed": false
   }
  },
  {
   "cell_type": "code",
   "execution_count": 21,
   "outputs": [],
   "source": [
    "device = neg_cent.device\n",
    "dtype = neg_cent.dtype\n",
    "neg_cent = neg_cent.data.cpu().numpy().astype(np.float32)\n",
    "path = np.zeros(neg_cent.shape, dtype=np.int32)\n",
    "\n",
    "t_t_max = mask.sum(1)[:, 0].data.cpu().numpy().astype(np.int32)\n",
    "t_s_max = mask.sum(2)[:, 0].data.cpu().numpy().astype(np.int32)\n"
   ],
   "metadata": {
    "collapsed": false,
    "ExecuteTime": {
     "start_time": "2023-04-25T16:01:35.794125Z",
     "end_time": "2023-04-25T16:01:35.832358Z"
    }
   }
  },
  {
   "cell_type": "code",
   "execution_count": 22,
   "outputs": [
    {
     "data": {
      "text/plain": "((16,), (16,))"
     },
     "execution_count": 22,
     "metadata": {},
     "output_type": "execute_result"
    }
   ],
   "source": [
    "t_t_max.shape, t_s_max.shape"
   ],
   "metadata": {
    "collapsed": false,
    "ExecuteTime": {
     "start_time": "2023-04-25T16:01:36.226126Z",
     "end_time": "2023-04-25T16:01:36.246337Z"
    }
   }
  },
  {
   "cell_type": "code",
   "execution_count": 23,
   "outputs": [
    {
     "data": {
      "text/plain": "array([[[0, 0, 0, ..., 0, 0, 0],\n        [0, 0, 0, ..., 0, 0, 0],\n        [0, 0, 0, ..., 0, 0, 0],\n        ...,\n        [0, 0, 0, ..., 0, 0, 0],\n        [0, 0, 0, ..., 0, 0, 0],\n        [0, 0, 0, ..., 0, 0, 0]],\n\n       [[0, 0, 0, ..., 0, 0, 0],\n        [0, 0, 0, ..., 0, 0, 0],\n        [0, 0, 0, ..., 0, 0, 0],\n        ...,\n        [0, 0, 0, ..., 0, 0, 0],\n        [0, 0, 0, ..., 0, 0, 0],\n        [0, 0, 0, ..., 0, 0, 0]],\n\n       [[0, 0, 0, ..., 0, 0, 0],\n        [0, 0, 0, ..., 0, 0, 0],\n        [0, 0, 0, ..., 0, 0, 0],\n        ...,\n        [0, 0, 0, ..., 0, 0, 0],\n        [0, 0, 0, ..., 0, 0, 0],\n        [0, 0, 0, ..., 0, 0, 0]],\n\n       ...,\n\n       [[0, 0, 0, ..., 0, 0, 0],\n        [0, 0, 0, ..., 0, 0, 0],\n        [0, 0, 0, ..., 0, 0, 0],\n        ...,\n        [0, 0, 0, ..., 0, 0, 0],\n        [0, 0, 0, ..., 0, 0, 0],\n        [0, 0, 0, ..., 0, 0, 0]],\n\n       [[0, 0, 0, ..., 0, 0, 0],\n        [0, 0, 0, ..., 0, 0, 0],\n        [0, 0, 0, ..., 0, 0, 0],\n        ...,\n        [0, 0, 0, ..., 0, 0, 0],\n        [0, 0, 0, ..., 0, 0, 0],\n        [0, 0, 0, ..., 0, 0, 0]],\n\n       [[0, 0, 0, ..., 0, 0, 0],\n        [0, 0, 0, ..., 0, 0, 0],\n        [0, 0, 0, ..., 0, 0, 0],\n        ...,\n        [0, 0, 0, ..., 0, 0, 0],\n        [0, 0, 0, ..., 0, 0, 0],\n        [0, 0, 0, ..., 0, 0, 0]]], dtype=int32)"
     },
     "execution_count": 23,
     "metadata": {},
     "output_type": "execute_result"
    }
   ],
   "source": [
    "paths = np.zeros(neg_cent.shape, dtype=np.int32)\n",
    "paths"
   ],
   "metadata": {
    "collapsed": false,
    "ExecuteTime": {
     "start_time": "2023-04-25T16:01:37.062764Z",
     "end_time": "2023-04-25T16:01:37.103665Z"
    }
   }
  },
  {
   "cell_type": "code",
   "execution_count": 66,
   "outputs": [
    {
     "data": {
      "text/plain": "(16, 427, 1236)"
     },
     "execution_count": 66,
     "metadata": {},
     "output_type": "execute_result"
    }
   ],
   "source": [
    "paths.shape"
   ],
   "metadata": {
    "collapsed": false,
    "ExecuteTime": {
     "start_time": "2023-04-25T17:27:03.547613Z",
     "end_time": "2023-04-25T17:27:03.586080Z"
    }
   }
  },
  {
   "cell_type": "code",
   "execution_count": null,
   "outputs": [],
   "source": [],
   "metadata": {
    "collapsed": false
   }
  },
  {
   "cell_type": "code",
   "execution_count": 24,
   "outputs": [
    {
     "data": {
      "text/plain": "(16,\n array([[[-1954.3187 , -1944.3813 , -1938.3387 , ...,   -87.59668,\n            -87.59668,   -87.59668],\n         [-2102.042  , -2090.9995 , -2086.7498 , ...,   -79.04165,\n            -79.04165,   -79.04165],\n         [-2189.8872 , -2177.5435 , -2171.264  , ...,   -75.5147 ,\n            -75.5147 ,   -75.5147 ],\n         ...,\n         [-2275.0232 , -2262.0144 , -2256.3518 , ...,   -73.51508,\n            -73.51508,   -73.51508],\n         [-2275.0232 , -2262.0144 , -2256.3518 , ...,   -73.51508,\n            -73.51508,   -73.51508],\n         [-2275.0232 , -2262.0144 , -2256.3518 , ...,   -73.51508,\n            -73.51508,   -73.51508]],\n \n        [[-2456.302  , -1365.0197 , -1136.9724 , ...,   -77.6333 ,\n            -77.6333 ,   -77.6333 ],\n         [-2420.476  , -1337.7217 , -1109.9849 , ...,   -78.31124,\n            -78.31124,   -78.31124],\n         [-2640.5413 , -1493.263  , -1250.2611 , ...,   -74.57619,\n            -74.57619,   -74.57619],\n         ...,\n         [-2620.2478 , -1482.694  , -1241.5646 , ...,   -73.51508,\n            -73.51508,   -73.51508],\n         [-2620.2478 , -1482.694  , -1241.5646 , ...,   -73.51508,\n            -73.51508,   -73.51508],\n         [-2620.2478 , -1482.694  , -1241.5646 , ...,   -73.51508,\n            -73.51508,   -73.51508]],\n \n        [[-4422.406  , -4320.616  , -4320.275  , ...,   -79.04288,\n            -79.04288,   -79.04288],\n         [-4498.855  , -4397.198  , -4397.414  , ...,   -78.02123,\n            -78.02123,   -78.02123],\n         [-4540.604  , -4438.279  , -4438.522  , ...,   -77.41826,\n            -77.41826,   -77.41826],\n         ...,\n         [-4709.629  , -4604.6304 , -4604.5024 , ...,   -73.51508,\n            -73.51508,   -73.51508],\n         [-4709.629  , -4604.6304 , -4604.5024 , ...,   -73.51508,\n            -73.51508,   -73.51508],\n         [-4709.629  , -4604.6304 , -4604.5024 , ...,   -73.51508,\n            -73.51508,   -73.51508]],\n \n        ...,\n \n        [[-4142.7144 , -4073.4966 , -4119.0986 , ...,   -83.67776,\n            -83.67776,   -83.67776],\n         [-4326.1025 , -4256.756  , -4301.458  , ...,   -78.47217,\n            -78.47217,   -78.47217],\n         [-4547.2417 , -4476.5674 , -4523.861  , ...,   -74.54429,\n            -74.54429,   -74.54429],\n         ...,\n         [-4523.3027 , -4451.822  , -4498.444  , ...,   -73.51508,\n            -73.51508,   -73.51508],\n         [-4523.3027 , -4451.822  , -4498.444  , ...,   -73.51508,\n            -73.51508,   -73.51508],\n         [-4523.3027 , -4451.822  , -4498.444  , ...,   -73.51508,\n            -73.51508,   -73.51508]],\n \n        [[-2541.5505 , -2515.5366 , -2532.3047 , ...,   -81.84812,\n            -81.84812,   -81.84812],\n         [-2782.2563 , -2753.8452 , -2771.0562 , ...,   -75.29423,\n            -75.29423,   -75.29423],\n         [-2576.1365 , -2550.0095 , -2567.3103 , ...,   -79.81246,\n            -79.81246,   -79.81246],\n         ...,\n         [-2793.8208 , -2765.7686 , -2783.4138 , ...,   -73.51508,\n            -73.51508,   -73.51508],\n         [-2793.8208 , -2765.7686 , -2783.4138 , ...,   -73.51508,\n            -73.51508,   -73.51508],\n         [-2793.8208 , -2765.7686 , -2783.4138 , ...,   -73.51508,\n            -73.51508,   -73.51508]],\n \n        [[-2770.8054 , -2725.076  , -2795.7417 , ...,   -81.67541,\n            -81.67541,   -81.67541],\n         [-2817.5928 , -2771.9019 , -2843.332  , ...,   -79.16208,\n            -79.16208,   -79.16208],\n         [-2958.2368 , -2910.7283 , -2984.7375 , ...,   -75.24251,\n            -75.24251,   -75.24251],\n         ...,\n         [-3039.7717 , -2990.8118 , -3065.1382 , ...,   -73.51508,\n            -73.51508,   -73.51508],\n         [-3039.7717 , -2990.8118 , -3065.1382 , ...,   -73.51508,\n            -73.51508,   -73.51508],\n         [-3039.7717 , -2990.8118 , -3065.1382 , ...,   -73.51508,\n            -73.51508,   -73.51508]]], dtype=float32))"
     },
     "execution_count": 24,
     "metadata": {},
     "output_type": "execute_result"
    }
   ],
   "source": [
    "b = path.shape[0]\n",
    "b, neg_cent"
   ],
   "metadata": {
    "collapsed": false,
    "ExecuteTime": {
     "start_time": "2023-04-25T16:01:37.675013Z",
     "end_time": "2023-04-25T16:01:37.678869Z"
    }
   }
  },
  {
   "cell_type": "code",
   "execution_count": 25,
   "outputs": [],
   "source": [
    "values = neg_cent"
   ],
   "metadata": {
    "collapsed": false,
    "ExecuteTime": {
     "start_time": "2023-04-25T16:01:38.539916Z",
     "end_time": "2023-04-25T16:01:38.555303Z"
    }
   }
  },
  {
   "cell_type": "code",
   "execution_count": null,
   "outputs": [],
   "source": [
    "path, neg_cent, t_t_max, t_s_max"
   ],
   "metadata": {
    "collapsed": false
   }
  },
  {
   "cell_type": "code",
   "execution_count": null,
   "outputs": [],
   "source": [],
   "metadata": {
    "collapsed": false
   }
  },
  {
   "cell_type": "code",
   "execution_count": 70,
   "outputs": [],
   "source": [
    "a = []\n",
    "\n",
    "for i, j in zip([path, neg_cent, t_t_max, t_s_max], range(4)):\n",
    "    with open(f\"{j}.pkl\", \"rb\") as t:\n",
    "        a.append(pickle.load(t))\n",
    "path, neg_cent, t_t_max, t_s_max = a"
   ],
   "metadata": {
    "collapsed": false,
    "ExecuteTime": {
     "start_time": "2023-04-25T18:10:24.632920Z",
     "end_time": "2023-04-25T18:10:24.690767Z"
    }
   }
  },
  {
   "cell_type": "code",
   "execution_count": 71,
   "outputs": [
    {
     "data": {
      "text/plain": "((16, 427, 1236), 427)"
     },
     "execution_count": 71,
     "metadata": {},
     "output_type": "execute_result"
    }
   ],
   "source": [
    "path.shape, max(t_t_max)"
   ],
   "metadata": {
    "collapsed": false,
    "ExecuteTime": {
     "start_time": "2023-04-25T18:10:35.316181Z",
     "end_time": "2023-04-25T18:10:35.343205Z"
    }
   }
  },
  {
   "cell_type": "code",
   "execution_count": null,
   "outputs": [],
   "source": [],
   "metadata": {
    "collapsed": false
   }
  },
  {
   "cell_type": "code",
   "execution_count": null,
   "outputs": [],
   "source": [],
   "metadata": {
    "collapsed": false
   }
  },
  {
   "cell_type": "code",
   "execution_count": 73,
   "outputs": [],
   "source": [
    "for i in range(paths.shape[0]):\n",
    "    path, value, t_y, t_x, max_neg_val = paths[i], neg_cent[i], t_t_max[i], t_s_max[i], -1e9\n",
    "    index = t_x - 1\n",
    "    for y in range(t_y):\n",
    "        for x in range(max(0, t_x + y - t_y), min(t_x, y + 1)):\n",
    "            if x == y:\n",
    "                v_cur = max_neg_val\n",
    "            else:\n",
    "                v_cur = value[y-1, x]\n",
    "            if x == 0:\n",
    "                if y == 0:\n",
    "                    v_prev = 0.\n",
    "                else:\n",
    "                    v_prev = max_neg_val\n",
    "            else:\n",
    "                v_prev = value[y-1, x-1]\n",
    "            value[y, x] += max(v_prev, v_cur)\n",
    "\n",
    "    for y in range(t_y - 1, -1, -1):\n",
    "        path[y, index] = 1\n",
    "        if index != 0 and (index == y or value[y-1, index] < value[y-1, index-1]):\n",
    "            index = index - 1"
   ],
   "metadata": {
    "collapsed": false,
    "ExecuteTime": {
     "start_time": "2023-04-25T18:12:49.669644Z",
     "end_time": "2023-04-25T18:12:49.724341Z"
    }
   }
  },
  {
   "cell_type": "markdown",
   "source": [],
   "metadata": {
    "collapsed": false
   }
  },
  {
   "cell_type": "code",
   "execution_count": null,
   "outputs": [],
   "source": [],
   "metadata": {
    "collapsed": false
   }
  },
  {
   "cell_type": "code",
   "execution_count": null,
   "outputs": [],
   "source": [],
   "metadata": {
    "collapsed": false
   }
  },
  {
   "cell_type": "code",
   "execution_count": 69,
   "outputs": [
    {
     "data": {
      "text/plain": "468"
     },
     "execution_count": 69,
     "metadata": {},
     "output_type": "execute_result"
    }
   ],
   "source": [
    "y"
   ],
   "metadata": {
    "collapsed": false,
    "ExecuteTime": {
     "start_time": "2023-04-25T18:05:19.974847Z",
     "end_time": "2023-04-25T18:05:20.026599Z"
    }
   }
  },
  {
   "cell_type": "code",
   "execution_count": 50,
   "outputs": [],
   "source": [
    "t_s_max.sort()"
   ],
   "metadata": {
    "collapsed": false,
    "ExecuteTime": {
     "start_time": "2023-04-25T17:22:45.265523Z",
     "end_time": "2023-04-25T17:22:45.301904Z"
    }
   }
  },
  {
   "cell_type": "code",
   "execution_count": 51,
   "outputs": [
    {
     "data": {
      "text/plain": "array([105, 117, 129, 151, 165, 179, 187, 189, 193, 205, 205, 221, 243,\n       277, 281, 379], dtype=int32)"
     },
     "execution_count": 51,
     "metadata": {},
     "output_type": "execute_result"
    }
   ],
   "source": [
    "t_t_max"
   ],
   "metadata": {
    "collapsed": false,
    "ExecuteTime": {
     "start_time": "2023-04-25T17:22:45.747586Z",
     "end_time": "2023-04-25T17:22:45.757080Z"
    }
   }
  },
  {
   "cell_type": "code",
   "execution_count": 52,
   "outputs": [
    {
     "data": {
      "text/plain": "1353"
     },
     "execution_count": 52,
     "metadata": {},
     "output_type": "execute_result"
    }
   ],
   "source": [
    "index"
   ],
   "metadata": {
    "collapsed": false,
    "ExecuteTime": {
     "start_time": "2023-04-25T17:23:09.889495Z",
     "end_time": "2023-04-25T17:23:09.924494Z"
    }
   }
  },
  {
   "cell_type": "code",
   "execution_count": 53,
   "outputs": [
    {
     "data": {
      "text/plain": "1354"
     },
     "execution_count": 53,
     "metadata": {},
     "output_type": "execute_result"
    }
   ],
   "source": [
    "t_x"
   ],
   "metadata": {
    "collapsed": false,
    "ExecuteTime": {
     "start_time": "2023-04-25T17:23:30.511371Z",
     "end_time": "2023-04-25T17:23:30.584769Z"
    }
   }
  },
  {
   "cell_type": "code",
   "execution_count": null,
   "outputs": [],
   "source": [],
   "metadata": {
    "collapsed": false
   }
  },
  {
   "cell_type": "code",
   "execution_count": null,
   "outputs": [],
   "source": [],
   "metadata": {
    "collapsed": false
   }
  },
  {
   "cell_type": "code",
   "execution_count": 42,
   "outputs": [
    {
     "name": "stdout",
     "output_type": "stream",
     "text": [
      "378\n",
      "377\n",
      "376\n",
      "375\n",
      "374\n",
      "373\n",
      "372\n",
      "371\n",
      "370\n",
      "369\n",
      "368\n",
      "367\n",
      "366\n",
      "365\n",
      "364\n",
      "363\n",
      "362\n",
      "361\n",
      "360\n",
      "359\n",
      "358\n",
      "357\n",
      "356\n",
      "355\n",
      "354\n",
      "353\n",
      "352\n",
      "351\n",
      "350\n",
      "349\n",
      "348\n",
      "347\n",
      "346\n",
      "345\n",
      "344\n",
      "343\n",
      "342\n",
      "341\n",
      "340\n",
      "339\n",
      "338\n",
      "337\n",
      "336\n",
      "335\n",
      "334\n",
      "333\n",
      "332\n",
      "331\n",
      "330\n",
      "329\n",
      "328\n",
      "327\n",
      "326\n",
      "325\n",
      "324\n",
      "323\n",
      "322\n",
      "321\n",
      "320\n",
      "319\n",
      "318\n",
      "317\n",
      "316\n",
      "315\n",
      "314\n",
      "313\n",
      "312\n",
      "311\n",
      "310\n",
      "309\n",
      "308\n",
      "307\n",
      "306\n",
      "305\n",
      "304\n",
      "303\n",
      "302\n",
      "301\n",
      "300\n",
      "299\n",
      "298\n",
      "297\n",
      "296\n",
      "295\n",
      "294\n",
      "293\n",
      "292\n",
      "291\n",
      "290\n",
      "289\n",
      "288\n",
      "287\n",
      "286\n",
      "285\n",
      "284\n",
      "283\n",
      "282\n",
      "281\n",
      "280\n",
      "279\n",
      "278\n",
      "277\n",
      "276\n",
      "275\n",
      "274\n",
      "273\n",
      "272\n",
      "271\n",
      "270\n",
      "269\n",
      "268\n",
      "267\n",
      "266\n",
      "265\n",
      "264\n",
      "263\n",
      "262\n",
      "261\n",
      "260\n",
      "259\n",
      "258\n",
      "257\n",
      "256\n",
      "255\n",
      "254\n",
      "253\n",
      "252\n",
      "251\n",
      "250\n",
      "249\n",
      "248\n",
      "247\n",
      "246\n",
      "245\n",
      "244\n",
      "243\n",
      "242\n",
      "241\n",
      "240\n",
      "239\n",
      "238\n",
      "237\n",
      "236\n",
      "235\n",
      "234\n",
      "233\n",
      "232\n",
      "231\n",
      "230\n",
      "229\n",
      "228\n",
      "227\n",
      "226\n",
      "225\n",
      "224\n",
      "223\n",
      "222\n",
      "221\n",
      "220\n",
      "219\n",
      "218\n",
      "217\n",
      "216\n",
      "215\n",
      "214\n",
      "213\n",
      "212\n",
      "211\n",
      "210\n",
      "209\n",
      "208\n",
      "207\n",
      "206\n",
      "205\n",
      "204\n",
      "203\n",
      "202\n",
      "201\n",
      "200\n",
      "199\n",
      "198\n",
      "197\n",
      "196\n",
      "195\n",
      "194\n",
      "193\n",
      "192\n",
      "191\n",
      "190\n",
      "189\n",
      "188\n",
      "187\n",
      "186\n",
      "185\n",
      "184\n",
      "183\n",
      "182\n",
      "181\n",
      "180\n",
      "179\n",
      "178\n",
      "177\n",
      "176\n",
      "175\n",
      "174\n",
      "173\n",
      "172\n",
      "171\n",
      "170\n",
      "169\n",
      "168\n",
      "167\n",
      "166\n",
      "165\n",
      "164\n",
      "163\n",
      "162\n",
      "161\n",
      "160\n",
      "159\n",
      "158\n",
      "157\n",
      "156\n",
      "155\n",
      "154\n",
      "153\n",
      "152\n",
      "151\n",
      "150\n",
      "149\n",
      "148\n",
      "147\n",
      "146\n",
      "145\n",
      "144\n",
      "143\n",
      "142\n",
      "141\n",
      "140\n",
      "139\n",
      "138\n",
      "137\n",
      "136\n",
      "135\n",
      "134\n",
      "133\n",
      "132\n",
      "131\n",
      "130\n",
      "129\n",
      "128\n",
      "127\n",
      "126\n",
      "125\n",
      "124\n",
      "123\n",
      "122\n",
      "121\n",
      "120\n",
      "119\n",
      "118\n",
      "117\n",
      "116\n",
      "115\n",
      "114\n",
      "113\n",
      "112\n",
      "111\n",
      "110\n",
      "109\n",
      "108\n",
      "107\n",
      "106\n",
      "105\n",
      "104\n",
      "103\n",
      "102\n",
      "101\n",
      "100\n",
      "99\n",
      "98\n",
      "97\n",
      "96\n",
      "95\n",
      "94\n",
      "93\n",
      "92\n",
      "91\n",
      "90\n",
      "89\n",
      "88\n",
      "87\n",
      "86\n",
      "85\n",
      "84\n",
      "83\n",
      "82\n",
      "81\n",
      "80\n",
      "79\n",
      "78\n",
      "77\n",
      "76\n",
      "75\n",
      "74\n",
      "73\n",
      "72\n",
      "71\n",
      "70\n",
      "69\n",
      "68\n",
      "67\n",
      "66\n",
      "65\n",
      "64\n",
      "63\n",
      "62\n",
      "61\n",
      "60\n",
      "59\n",
      "58\n",
      "57\n",
      "56\n",
      "55\n",
      "54\n",
      "53\n",
      "52\n",
      "51\n",
      "50\n",
      "49\n",
      "48\n",
      "47\n",
      "46\n",
      "45\n",
      "44\n",
      "43\n",
      "42\n",
      "41\n",
      "40\n",
      "39\n",
      "38\n",
      "37\n",
      "36\n",
      "35\n",
      "34\n",
      "33\n",
      "32\n",
      "31\n",
      "30\n",
      "29\n",
      "28\n",
      "27\n",
      "26\n",
      "25\n",
      "24\n",
      "23\n",
      "22\n",
      "21\n",
      "20\n",
      "19\n",
      "18\n",
      "17\n",
      "16\n",
      "15\n",
      "14\n",
      "13\n",
      "12\n",
      "11\n",
      "10\n",
      "9\n",
      "8\n",
      "7\n",
      "6\n",
      "5\n",
      "4\n",
      "3\n",
      "2\n",
      "1\n",
      "0\n"
     ]
    }
   ],
   "source": [
    "for y in range(t_y - 1, -1, -1):\n",
    "    print(y)"
   ],
   "metadata": {
    "collapsed": false,
    "ExecuteTime": {
     "start_time": "2023-04-25T16:32:27.293896Z",
     "end_time": "2023-04-25T16:32:27.343206Z"
    }
   }
  },
  {
   "cell_type": "code",
   "execution_count": 43,
   "outputs": [
    {
     "data": {
      "text/plain": "(427, 1236)"
     },
     "execution_count": 43,
     "metadata": {},
     "output_type": "execute_result"
    }
   ],
   "source": [
    "path.shape"
   ],
   "metadata": {
    "collapsed": false,
    "ExecuteTime": {
     "start_time": "2023-04-25T16:32:55.746655Z",
     "end_time": "2023-04-25T16:32:55.803480Z"
    }
   }
  },
  {
   "cell_type": "code",
   "execution_count": 45,
   "outputs": [
    {
     "data": {
      "text/plain": "1353"
     },
     "execution_count": 45,
     "metadata": {},
     "output_type": "execute_result"
    }
   ],
   "source": [
    "index"
   ],
   "metadata": {
    "collapsed": false,
    "ExecuteTime": {
     "start_time": "2023-04-25T16:34:29.339600Z",
     "end_time": "2023-04-25T16:34:29.381674Z"
    }
   }
  },
  {
   "cell_type": "code",
   "execution_count": 44,
   "outputs": [
    {
     "data": {
      "text/plain": "379"
     },
     "execution_count": 44,
     "metadata": {},
     "output_type": "execute_result"
    }
   ],
   "source": [
    "t_y"
   ],
   "metadata": {
    "collapsed": false,
    "ExecuteTime": {
     "start_time": "2023-04-25T16:34:14.995669Z",
     "end_time": "2023-04-25T16:34:15.043706Z"
    }
   }
  },
  {
   "cell_type": "code",
   "execution_count": null,
   "outputs": [],
   "source": [],
   "metadata": {
    "collapsed": false
   }
  },
  {
   "cell_type": "code",
   "execution_count": 34,
   "outputs": [],
   "source": [
    "import pickle"
   ],
   "metadata": {
    "collapsed": false,
    "ExecuteTime": {
     "start_time": "2023-04-25T16:28:21.366724Z",
     "end_time": "2023-04-25T16:28:21.420262Z"
    }
   }
  },
  {
   "cell_type": "code",
   "execution_count": 54,
   "outputs": [],
   "source": [
    "a = []\n",
    "\n",
    "for i, j in zip([path, neg_cent, t_t_max, t_s_max], range(4)):\n",
    "    with open(f\"{j}.pkl\", \"rb\") as t:\n",
    "        a.append(pickle.load(t))\n",
    "path, neg_cent, t_t_max, t_s_max = a"
   ],
   "metadata": {
    "collapsed": false,
    "ExecuteTime": {
     "start_time": "2023-04-25T17:24:00.276224Z",
     "end_time": "2023-04-25T17:24:00.337765Z"
    }
   }
  },
  {
   "cell_type": "code",
   "execution_count": 55,
   "outputs": [
    {
     "data": {
      "text/plain": "array([[[0, 0, 0, ..., 0, 0, 0],\n        [0, 0, 0, ..., 0, 0, 0],\n        [0, 0, 0, ..., 0, 0, 0],\n        ...,\n        [0, 0, 0, ..., 0, 0, 0],\n        [0, 0, 0, ..., 0, 0, 0],\n        [0, 0, 0, ..., 0, 0, 0]],\n\n       [[0, 0, 0, ..., 0, 0, 0],\n        [0, 0, 0, ..., 0, 0, 0],\n        [0, 0, 0, ..., 0, 0, 0],\n        ...,\n        [0, 0, 0, ..., 0, 0, 0],\n        [0, 0, 0, ..., 0, 0, 0],\n        [0, 0, 0, ..., 0, 0, 0]],\n\n       [[0, 0, 0, ..., 0, 0, 0],\n        [0, 0, 0, ..., 0, 0, 0],\n        [0, 0, 0, ..., 0, 0, 0],\n        ...,\n        [0, 0, 0, ..., 0, 0, 0],\n        [0, 0, 0, ..., 0, 0, 0],\n        [0, 0, 0, ..., 0, 0, 0]],\n\n       ...,\n\n       [[0, 0, 0, ..., 0, 0, 0],\n        [0, 0, 0, ..., 0, 0, 0],\n        [0, 0, 0, ..., 0, 0, 0],\n        ...,\n        [0, 0, 0, ..., 0, 0, 0],\n        [0, 0, 0, ..., 0, 0, 0],\n        [0, 0, 0, ..., 0, 0, 0]],\n\n       [[0, 0, 0, ..., 0, 0, 0],\n        [0, 0, 0, ..., 0, 0, 0],\n        [0, 0, 0, ..., 0, 0, 0],\n        ...,\n        [0, 0, 0, ..., 0, 0, 0],\n        [0, 0, 0, ..., 0, 0, 0],\n        [0, 0, 0, ..., 0, 0, 0]],\n\n       [[0, 0, 0, ..., 0, 0, 0],\n        [0, 0, 0, ..., 0, 0, 0],\n        [0, 0, 0, ..., 0, 0, 0],\n        ...,\n        [0, 0, 0, ..., 0, 0, 0],\n        [0, 0, 0, ..., 0, 0, 0],\n        [0, 0, 0, ..., 0, 0, 0]]], dtype=int32)"
     },
     "execution_count": 55,
     "metadata": {},
     "output_type": "execute_result"
    }
   ],
   "source": [
    "path, neg_cent, t_t_max, t_s_max = a\n",
    "path"
   ],
   "metadata": {
    "collapsed": false,
    "ExecuteTime": {
     "start_time": "2023-04-25T17:24:02.771842Z",
     "end_time": "2023-04-25T17:24:02.789302Z"
    }
   }
  },
  {
   "cell_type": "code",
   "execution_count": null,
   "outputs": [],
   "source": [],
   "metadata": {
    "collapsed": false
   }
  },
  {
   "cell_type": "code",
   "execution_count": 57,
   "outputs": [
    {
     "data": {
      "text/plain": "array([ 401,  419,  639,  647,  715,  739,  758,  775,  781,  805,  833,\n        845,  852,  855,  857, 1354], dtype=int32)"
     },
     "execution_count": 57,
     "metadata": {},
     "output_type": "execute_result"
    }
   ],
   "source": [
    "t_s_max.sort()\n",
    "t_s_max"
   ],
   "metadata": {
    "collapsed": false,
    "ExecuteTime": {
     "start_time": "2023-04-25T17:24:14.245845Z",
     "end_time": "2023-04-25T17:24:14.259423Z"
    }
   }
  },
  {
   "cell_type": "code",
   "execution_count": null,
   "outputs": [],
   "source": [],
   "metadata": {
    "collapsed": false
   }
  },
  {
   "cell_type": "code",
   "execution_count": null,
   "outputs": [],
   "source": [],
   "metadata": {
    "collapsed": false
   }
  },
  {
   "cell_type": "code",
   "execution_count": 39,
   "outputs": [
    {
     "data": {
      "text/plain": "(16, 379, 1356)"
     },
     "execution_count": 39,
     "metadata": {},
     "output_type": "execute_result"
    }
   ],
   "source": [
    "path.shape"
   ],
   "metadata": {
    "collapsed": false,
    "ExecuteTime": {
     "start_time": "2023-04-25T16:29:28.132497Z",
     "end_time": "2023-04-25T16:29:28.154454Z"
    }
   }
  },
  {
   "cell_type": "code",
   "execution_count": 40,
   "outputs": [
    {
     "ename": "SyntaxError",
     "evalue": "invalid syntax (1891214979.py, line 1)",
     "output_type": "error",
     "traceback": [
      "\u001B[0;36m  Cell \u001B[0;32mIn[40], line 1\u001B[0;36m\u001B[0m\n\u001B[0;31m    import model.monotonic_align.core import maximum_path_c\u001B[0m\n\u001B[0m                                      ^\u001B[0m\n\u001B[0;31mSyntaxError\u001B[0m\u001B[0;31m:\u001B[0m invalid syntax\n"
     ]
    }
   ],
   "source": [
    "import model.monotonic_align.core import maximum_path_c"
   ],
   "metadata": {
    "collapsed": false
   }
  },
  {
   "cell_type": "code",
   "execution_count": null,
   "outputs": [],
   "source": [],
   "metadata": {
    "collapsed": false
   }
  },
  {
   "cell_type": "code",
   "execution_count": null,
   "outputs": [],
   "source": [],
   "metadata": {
    "collapsed": false
   }
  },
  {
   "cell_type": "code",
   "execution_count": null,
   "outputs": [],
   "source": [],
   "metadata": {
    "collapsed": false
   }
  },
  {
   "cell_type": "code",
   "execution_count": null,
   "outputs": [],
   "source": [],
   "metadata": {
    "collapsed": false
   }
  },
  {
   "cell_type": "code",
   "execution_count": 30,
   "outputs": [
    {
     "data": {
      "text/plain": "(427, 1236)"
     },
     "execution_count": 30,
     "metadata": {},
     "output_type": "execute_result"
    }
   ],
   "source": [
    "path.shape"
   ],
   "metadata": {
    "collapsed": false,
    "ExecuteTime": {
     "start_time": "2023-04-25T16:02:38.510274Z",
     "end_time": "2023-04-25T16:02:38.548160Z"
    }
   }
  },
  {
   "cell_type": "code",
   "execution_count": 32,
   "outputs": [
    {
     "data": {
      "text/plain": "0.0002936874256307648"
     },
     "execution_count": 32,
     "metadata": {},
     "output_type": "execute_result"
    }
   ],
   "source": [
    "path.mean()"
   ],
   "metadata": {
    "collapsed": false,
    "ExecuteTime": {
     "start_time": "2023-04-25T16:02:57.947594Z",
     "end_time": "2023-04-25T16:02:57.969735Z"
    }
   }
  },
  {
   "cell_type": "code",
   "execution_count": 33,
   "outputs": [
    {
     "data": {
      "text/plain": "tensor([[0., 0., 0.,  ..., 0., 0., 0.],\n        [0., 0., 0.,  ..., 0., 0., 0.],\n        [0., 0., 0.,  ..., 0., 0., 0.],\n        ...,\n        [0., 0., 0.,  ..., 0., 0., 0.],\n        [0., 0., 0.,  ..., 0., 0., 0.],\n        [0., 0., 0.,  ..., 0., 0., 0.]], device='cuda:0')"
     },
     "execution_count": 33,
     "metadata": {},
     "output_type": "execute_result"
    }
   ],
   "source": [
    "torch.from_numpy(path).to(device=device, dtype=dtype)"
   ],
   "metadata": {
    "collapsed": false,
    "ExecuteTime": {
     "start_time": "2023-04-25T16:10:14.580270Z",
     "end_time": "2023-04-25T16:10:14.674729Z"
    }
   }
  },
  {
   "cell_type": "code",
   "execution_count": 28,
   "outputs": [
    {
     "data": {
      "text/plain": "155"
     },
     "execution_count": 28,
     "metadata": {},
     "output_type": "execute_result"
    }
   ],
   "source": [
    "t_y"
   ],
   "metadata": {
    "collapsed": false,
    "ExecuteTime": {
     "start_time": "2023-04-25T16:02:09.143845Z",
     "end_time": "2023-04-25T16:02:09.170629Z"
    }
   }
  },
  {
   "cell_type": "code",
   "execution_count": 29,
   "outputs": [
    {
     "data": {
      "text/plain": "579"
     },
     "execution_count": 29,
     "metadata": {},
     "output_type": "execute_result"
    }
   ],
   "source": [
    "index"
   ],
   "metadata": {
    "collapsed": false,
    "ExecuteTime": {
     "start_time": "2023-04-25T16:02:30.140279Z",
     "end_time": "2023-04-25T16:02:30.180845Z"
    }
   }
  },
  {
   "cell_type": "code",
   "execution_count": null,
   "outputs": [],
   "source": [],
   "metadata": {
    "collapsed": false
   }
  },
  {
   "cell_type": "code",
   "execution_count": 16,
   "outputs": [
    {
     "data": {
      "text/plain": "175"
     },
     "execution_count": 16,
     "metadata": {},
     "output_type": "execute_result"
    }
   ],
   "source": [
    "t_y"
   ],
   "metadata": {
    "collapsed": false,
    "ExecuteTime": {
     "start_time": "2023-04-25T15:58:32.794303Z",
     "end_time": "2023-04-25T15:58:32.826437Z"
    }
   }
  },
  {
   "cell_type": "code",
   "execution_count": null,
   "outputs": [],
   "source": [],
   "metadata": {
    "collapsed": false
   }
  },
  {
   "cell_type": "code",
   "execution_count": null,
   "outputs": [],
   "source": [],
   "metadata": {
    "collapsed": false
   }
  },
  {
   "cell_type": "code",
   "execution_count": null,
   "outputs": [],
   "source": [],
   "metadata": {
    "collapsed": false
   }
  },
  {
   "cell_type": "code",
   "execution_count": 10,
   "outputs": [
    {
     "ename": "ModuleNotFoundError",
     "evalue": "No module named 'model.monotonic_align.core'",
     "output_type": "error",
     "traceback": [
      "\u001B[0;31m---------------------------------------------------------------------------\u001B[0m",
      "\u001B[0;31mModuleNotFoundError\u001B[0m                       Traceback (most recent call last)",
      "Cell \u001B[0;32mIn[10], line 1\u001B[0m\n\u001B[0;32m----> 1\u001B[0m \u001B[38;5;28;01mfrom\u001B[39;00m \u001B[38;5;21;01mmodel\u001B[39;00m\u001B[38;5;21;01m.\u001B[39;00m\u001B[38;5;21;01mmonotonic_align\u001B[39;00m\u001B[38;5;21;01m.\u001B[39;00m\u001B[38;5;21;01mcore\u001B[39;00m \u001B[38;5;28;01mimport\u001B[39;00m maximum_path_c\n",
      "\u001B[0;31mModuleNotFoundError\u001B[0m: No module named 'model.monotonic_align.core'"
     ]
    }
   ],
   "source": [
    "from model.monotonic_align.core import maximum_path_c"
   ],
   "metadata": {
    "collapsed": false
   }
  },
  {
   "cell_type": "code",
   "execution_count": null,
   "outputs": [],
   "source": [],
   "metadata": {
    "collapsed": false
   }
  },
  {
   "cell_type": "code",
   "execution_count": null,
   "outputs": [],
   "source": [],
   "metadata": {
    "collapsed": false
   }
  },
  {
   "cell_type": "code",
   "execution_count": null,
   "outputs": [],
   "source": [
    "  for y in range(t_y):\n",
    "    for x in range(max(0, t_x + y - t_y), min(t_x, y + 1)):\n",
    "      if x == y:\n",
    "        v_cur = max_neg_val\n",
    "      else:\n",
    "        v_cur = value[y-1, x]\n",
    "      if x == 0:\n",
    "        if y == 0:\n",
    "          v_prev = 0.\n",
    "        else:\n",
    "          v_prev = max_neg_val\n",
    "      else:\n",
    "        v_prev = value[y-1, x-1]\n",
    "      value[y, x] += max(v_prev, v_cur)\n",
    "\n",
    "  for y in range(t_y - 1, -1, -1):\n",
    "    path[y, index] = 1\n",
    "    if index != 0 and (index == y or value[y-1, index] < value[y-1, index-1]):\n",
    "      index = index - 1"
   ],
   "metadata": {
    "collapsed": false
   }
  },
  {
   "cell_type": "code",
   "execution_count": null,
   "outputs": [],
   "source": [],
   "metadata": {
    "collapsed": false
   }
  },
  {
   "cell_type": "code",
   "execution_count": null,
   "outputs": [],
   "source": [
    "maximum_path_c(path, neg_cent, t_t_max, t_s_max)"
   ],
   "metadata": {
    "collapsed": false
   }
  },
  {
   "cell_type": "code",
   "execution_count": 8,
   "outputs": [
    {
     "data": {
      "text/plain": "array([ 754,  301,  752,  915,  350,  761, 1234,  514,  635,  778,  644,\n        420,  790,  614,  716,  582], dtype=int32)"
     },
     "execution_count": 8,
     "metadata": {},
     "output_type": "execute_result"
    }
   ],
   "source": [
    "t_s_max"
   ],
   "metadata": {
    "collapsed": false,
    "ExecuteTime": {
     "start_time": "2023-04-25T06:19:42.300031Z",
     "end_time": "2023-04-25T06:19:42.305963Z"
    }
   }
  },
  {
   "cell_type": "code",
   "execution_count": null,
   "outputs": [],
   "source": [],
   "metadata": {
    "collapsed": false
   }
  },
  {
   "cell_type": "code",
   "execution_count": null,
   "outputs": [],
   "source": [],
   "metadata": {
    "collapsed": false
   }
  },
  {
   "cell_type": "code",
   "execution_count": null,
   "outputs": [],
   "source": [],
   "metadata": {
    "collapsed": false
   }
  },
  {
   "cell_type": "code",
   "execution_count": null,
   "outputs": [],
   "source": [
    "monotonic_align.maximum_path(log_prior, attn_mask)"
   ],
   "metadata": {
    "collapsed": false
   }
  },
  {
   "cell_type": "code",
   "execution_count": null,
   "outputs": [],
   "source": [],
   "metadata": {
    "collapsed": false
   }
  },
  {
   "cell_type": "code",
   "execution_count": 15,
   "outputs": [],
   "source": [
    "speaker_id = None\n",
    "checkpoint = \"logs/new_exp/grad_183.pt\""
   ],
   "metadata": {
    "collapsed": false,
    "ExecuteTime": {
     "start_time": "2023-04-26T17:48:44.437550Z",
     "end_time": "2023-04-26T17:48:44.488987Z"
    }
   }
  },
  {
   "cell_type": "code",
   "execution_count": 16,
   "outputs": [
    {
     "name": "stdout",
     "output_type": "stream",
     "text": [
      "Initializing Grad-TTS...\n",
      "Number of parameters: 14829464\n",
      "Initializing HiFi-GAN...\n",
      "Removing weight norm...\n"
     ]
    }
   ],
   "source": [
    "if not isinstance(speaker_id, type(None)):\n",
    "    assert params.n_spks > 1, \"Ensure you set right number of speakers in `params.py`.\"\n",
    "    spk = torch.LongTensor([speaker_id]).cuda()\n",
    "else:\n",
    "    spk = None\n",
    "\n",
    "print('Initializing Grad-TTS...')\n",
    "generator = GradTTS(len(symbols)+1, params.n_spks, params.spk_emb_dim,\n",
    "                    params.n_enc_channels, params.filter_channels,\n",
    "                    params.filter_channels_dp, params.n_heads, params.n_enc_layers,\n",
    "                    params.enc_kernel, params.enc_dropout, params.window_size,\n",
    "                    params.n_feats, params.dec_dim, params.beta_min, params.beta_max, params.pe_scale)\n",
    "generator.load_state_dict(torch.load(checkpoint, map_location=lambda loc, storage: loc))\n",
    "_ = generator.cuda().eval()\n",
    "print(f'Number of parameters: {generator.nparams}')\n",
    "\n",
    "print('Initializing HiFi-GAN...')\n",
    "with open(HIFIGAN_CONFIG) as f:\n",
    "    h = AttrDict(json.load(f))\n",
    "vocoder = HiFiGAN(h)\n",
    "vocoder.load_state_dict(torch.load(HIFIGAN_CHECKPT, map_location=lambda loc, storage: loc)['generator'])\n",
    "_ = vocoder.cuda().eval()\n",
    "vocoder.remove_weight_norm()"
   ],
   "metadata": {
    "collapsed": false,
    "ExecuteTime": {
     "start_time": "2023-04-26T17:48:44.979840Z",
     "end_time": "2023-04-26T17:48:45.470009Z"
    }
   }
  },
  {
   "cell_type": "code",
   "execution_count": 17,
   "outputs": [],
   "source": [
    "texts = [\"По словам CEO и главного инженера SpaceX Илона Маска, Starship в будущем заменит Falcon 9 и Falcon Heavy, грузовой и пилотируемый Dragon V2[11].;\"]"
   ],
   "metadata": {
    "collapsed": false,
    "ExecuteTime": {
     "start_time": "2023-04-26T17:48:46.374646Z",
     "end_time": "2023-04-26T17:48:46.391590Z"
    }
   }
  },
  {
   "cell_type": "code",
   "execution_count": 18,
   "outputs": [],
   "source": [
    "timesteps = 10"
   ],
   "metadata": {
    "collapsed": false,
    "ExecuteTime": {
     "start_time": "2023-04-26T17:48:46.940266Z",
     "end_time": "2023-04-26T17:48:46.987035Z"
    }
   }
  },
  {
   "cell_type": "code",
   "execution_count": 20,
   "outputs": [
    {
     "name": "stdout",
     "output_type": "stream",
     "text": [
      "Synthesizing 0 text... Grad-TTS RTF: 0.037381383895305514\n"
     ]
    }
   ],
   "source": [
    "with torch.no_grad():\n",
    "    for i, text in enumerate(texts):\n",
    "        print(f'Synthesizing {i} text...', end=' ')\n",
    "        x = torch.LongTensor(intersperse(text_to_sequence(text), len(symbols))).cuda()[None]\n",
    "        x_lengths = torch.LongTensor([x.shape[-1]]).cuda()\n",
    "\n",
    "        t = dt.datetime.now()\n",
    "        y_enc, y_dec, attn = generator.forward(x, x_lengths, n_timesteps=timesteps, temperature=1.5,\n",
    "                                               stoc=False, spk=spk, length_scale=0.91)\n",
    "        t = (dt.datetime.now() - t).total_seconds()\n",
    "        print(f'Grad-TTS RTF: {t * 22050 / (y_dec.shape[-1] * 256)}')\n",
    "\n",
    "        audio = (vocoder.forward(y_dec).cpu().squeeze().clamp(-1, 1).numpy() * 32768).astype(np.int16)\n",
    "\n",
    "        write(f'./out/sample_3.wav', 22050, audio)"
   ],
   "metadata": {
    "collapsed": false,
    "ExecuteTime": {
     "start_time": "2023-04-26T17:50:36.424226Z",
     "end_time": "2023-04-26T17:50:37.281162Z"
    }
   }
  },
  {
   "cell_type": "code",
   "execution_count": 8,
   "outputs": [],
   "source": [
    "from data import TextMelDataset, TextMelBatchCollate\n",
    "from torch.utils.data import DataLoader"
   ],
   "metadata": {
    "collapsed": false,
    "ExecuteTime": {
     "start_time": "2023-04-26T17:47:39.493334Z",
     "end_time": "2023-04-26T17:47:40.628396Z"
    }
   }
  },
  {
   "cell_type": "code",
   "execution_count": 9,
   "outputs": [],
   "source": [
    "train_filelist_path = params.train_filelist_path\n",
    "valid_filelist_path = params.valid_filelist_path\n",
    "add_blank = params.add_blank\n",
    "\n",
    "log_dir = params.log_dir\n",
    "n_epochs = params.n_epochs\n",
    "batch_size = params.batch_size\n",
    "out_size = params.out_size\n",
    "learning_rate = params.learning_rate\n",
    "random_seed = params.seed\n",
    "\n",
    "nsymbols = len(symbols) + 1 if add_blank else len(symbols)\n",
    "n_enc_channels = params.n_enc_channels\n",
    "filter_channels = params.filter_channels\n",
    "filter_channels_dp = params.filter_channels_dp\n",
    "n_enc_layers = params.n_enc_layers\n",
    "enc_kernel = params.enc_kernel\n",
    "enc_dropout = params.enc_dropout\n",
    "n_heads = params.n_heads\n",
    "window_size = params.window_size\n",
    "\n",
    "n_feats = params.n_feats\n",
    "n_fft = params.n_fft\n",
    "sample_rate = params.sample_rate\n",
    "hop_length = params.hop_length\n",
    "win_length = params.win_length\n",
    "f_min = params.f_min\n",
    "f_max = params.f_max\n",
    "\n",
    "dec_dim = params.dec_dim\n",
    "beta_min = params.beta_min\n",
    "beta_max = params.beta_max\n",
    "pe_scale = params.pe_scale"
   ],
   "metadata": {
    "collapsed": false,
    "ExecuteTime": {
     "start_time": "2023-04-26T17:47:40.631648Z",
     "end_time": "2023-04-26T17:47:40.642019Z"
    }
   }
  },
  {
   "cell_type": "code",
   "execution_count": 10,
   "outputs": [
    {
     "name": "stderr",
     "output_type": "stream",
     "text": [
      "\n",
      "KeyboardInterrupt\n",
      "\n"
     ]
    }
   ],
   "source": [
    "train_dataset = TextMelDataset(\n",
    "    train_filelist_path, add_blank, n_fft, n_feats, sample_rate, hop_length, win_length, f_min, f_max\n",
    ")"
   ],
   "metadata": {
    "collapsed": false,
    "ExecuteTime": {
     "start_time": "2023-04-25T03:18:31.387459Z",
     "end_time": "2023-04-25T03:18:41.042536Z"
    }
   }
  },
  {
   "cell_type": "code",
   "execution_count": null,
   "outputs": [],
   "source": [
    "batch_collate = TextMelBatchCollate()\n",
    "loader = DataLoader(dataset=train_dataset, batch_size=batch_size,\n",
    "                        collate_fn=batch_collate, drop_last=True,\n",
    "                        num_workers=4, shuffle=False)"
   ],
   "metadata": {
    "collapsed": false,
    "ExecuteTime": {
     "start_time": "2023-04-25T03:18:41.045217Z",
     "end_time": "2023-04-25T03:18:41.107744Z"
    }
   }
  },
  {
   "cell_type": "code",
   "execution_count": null,
   "outputs": [],
   "source": [
    "%%timeit\n",
    "\n",
    "for batch in loader:\n",
    "    pass\n"
   ],
   "metadata": {
    "collapsed": false,
    "ExecuteTime": {
     "start_time": "2023-04-25T03:19:26.395716Z",
     "end_time": "2023-04-25T03:20:00.699006Z"
    }
   }
  },
  {
   "cell_type": "code",
   "execution_count": null,
   "outputs": [],
   "source": [],
   "metadata": {
    "collapsed": false
   }
  },
  {
   "cell_type": "code",
   "execution_count": null,
   "outputs": [],
   "source": [
    "text = \"По словам CEO и главного инженера SpaceX Илона Маска, Starship в будущем заменит Falcon 9 и Falcon Heavy, грузовой и пилотируемый Dragon V2[11].;\""
   ],
   "metadata": {
    "collapsed": false,
    "ExecuteTime": {
     "start_time": "2023-04-23T00:12:28.033853Z",
     "end_time": "2023-04-23T00:12:28.038193Z"
    }
   }
  },
  {
   "cell_type": "code",
   "execution_count": null,
   "outputs": [],
   "source": [
    "text_to_sequence(text, [\"russian_cleaners\"])"
   ],
   "metadata": {
    "collapsed": false,
    "ExecuteTime": {
     "start_time": "2023-04-23T00:12:28.038564Z",
     "end_time": "2023-04-23T00:12:30.015464Z"
    }
   }
  },
  {
   "cell_type": "markdown",
   "source": [],
   "metadata": {
    "collapsed": false
   }
  },
  {
   "cell_type": "code",
   "execution_count": null,
   "outputs": [],
   "source": [
    "with open(r\"dataset/transcript.txt\", \"r\", encoding=\"utf-8\") as t:\n",
    "    texts = t.read()"
   ],
   "metadata": {
    "collapsed": false,
    "ExecuteTime": {
     "start_time": "2023-04-25T04:12:26.275319Z",
     "end_time": "2023-04-25T04:12:26.303989Z"
    }
   }
  },
  {
   "cell_type": "code",
   "execution_count": null,
   "outputs": [],
   "source": [
    "texts"
   ],
   "metadata": {
    "collapsed": false,
    "ExecuteTime": {
     "start_time": "2023-04-25T04:12:22.361271Z",
     "end_time": "2023-04-25T04:12:22.681586Z"
    }
   }
  },
  {
   "cell_type": "code",
   "execution_count": null,
   "outputs": [],
   "source": [
    "a2 = [(\"dataset/\" + i.split(\"|\")[1], i.split(\"|\")[1]) for i in texts.split(\"\\n\") if len(i.split(\"|\")[:2]) == 2]"
   ],
   "metadata": {
    "collapsed": false,
    "ExecuteTime": {
     "start_time": "2023-04-25T04:16:48.541206Z",
     "end_time": "2023-04-25T04:16:48.603258Z"
    }
   }
  },
  {
   "cell_type": "code",
   "execution_count": null,
   "outputs": [],
   "source": [
    "test_p = 0.1\n",
    "val_p = 0.05\n",
    "\n",
    "max_c = 200\n"
   ],
   "metadata": {
    "collapsed": false,
    "ExecuteTime": {
     "start_time": "2023-04-25T04:16:49.804743Z",
     "end_time": "2023-04-25T04:16:49.813819Z"
    }
   }
  },
  {
   "cell_type": "code",
   "execution_count": null,
   "outputs": [],
   "source": [
    "a2"
   ],
   "metadata": {
    "collapsed": false,
    "ExecuteTime": {
     "start_time": "2023-04-25T04:16:50.275905Z",
     "end_time": "2023-04-25T04:16:50.344322Z"
    }
   }
  },
  {
   "cell_type": "code",
   "execution_count": null,
   "outputs": [],
   "source": [
    "dataset_path = r\"dataset/\"\n",
    "\n",
    "data = []\n",
    "\n",
    "for j in [i.split(\",\") for i in texts.split(\"\\n\") if len(i.split(\",\")) == 2]:\n",
    "    with open(dataset_path + j[1], \"r\") as t:\n",
    "        text = t.read()\n",
    "        text = text.replace(\"\\n\", \"\")\n",
    "        data.append((dataset_path + j[0], text))"
   ],
   "metadata": {
    "collapsed": false
   }
  },
  {
   "cell_type": "code",
   "execution_count": null,
   "outputs": [],
   "source": [
    "import random"
   ],
   "metadata": {
    "collapsed": false,
    "ExecuteTime": {
     "start_time": "2023-04-25T04:17:13.645524Z",
     "end_time": "2023-04-25T04:17:13.719618Z"
    }
   }
  },
  {
   "cell_type": "code",
   "execution_count": null,
   "outputs": [],
   "source": [
    "random.shuffle(a2)\n",
    "\n",
    "test_c = int(min(len(a2) * test_p, max_c))\n",
    "val_c = int(min(len(a2) * val_p, max_c))\n",
    "\n",
    "test = a2[:test_c]\n",
    "val = a2[test_c: test_c + val_c]\n",
    "train = a2[test_c + val_c:]"
   ],
   "metadata": {
    "collapsed": false,
    "ExecuteTime": {
     "start_time": "2023-04-25T04:17:30.178346Z",
     "end_time": "2023-04-25T04:17:30.186322Z"
    }
   }
  },
  {
   "cell_type": "code",
   "execution_count": null,
   "outputs": [],
   "source": [
    "from data import TextMelDataset, TextMelBatchCollate\n",
    "import params"
   ],
   "metadata": {
    "collapsed": false,
    "ExecuteTime": {
     "start_time": "2023-04-25T05:14:05.079320Z",
     "end_time": "2023-04-25T05:14:05.090449Z"
    }
   }
  },
  {
   "cell_type": "code",
   "execution_count": null,
   "outputs": [],
   "source": [
    "train_filelist_path = params.train_filelist_path\n",
    "valid_filelist_path = params.valid_filelist_path\n",
    "add_blank = params.add_blank\n",
    "\n",
    "log_dir = params.log_dir\n",
    "n_epochs = params.n_epochs\n",
    "batch_size = params.batch_size\n",
    "out_size = params.out_size\n",
    "learning_rate = params.learning_rate\n",
    "random_seed = params.seed\n",
    "\n",
    "n_feats = params.n_feats\n",
    "n_fft = params.n_fft\n",
    "sample_rate = params.sample_rate\n",
    "hop_length = params.hop_length\n",
    "win_length = params.win_length\n",
    "f_min = params.f_min\n",
    "f_max = params.f_max\n",
    "\n",
    "dec_dim = params.dec_dim\n",
    "beta_min = params.beta_min\n",
    "beta_max = params.beta_max\n",
    "pe_scale = params.pe_scale"
   ],
   "metadata": {
    "collapsed": false,
    "ExecuteTime": {
     "start_time": "2023-04-25T05:14:14.513475Z",
     "end_time": "2023-04-25T05:14:14.568863Z"
    }
   }
  },
  {
   "cell_type": "code",
   "execution_count": null,
   "outputs": [],
   "source": [
    "train_dataset = TextMelDataset(\n",
    "    train_filelist_path, add_blank, n_fft, n_feats, sample_rate, hop_length, win_length, f_min, f_max\n",
    ")"
   ],
   "metadata": {
    "collapsed": false,
    "ExecuteTime": {
     "start_time": "2023-04-25T05:14:14.615012Z",
     "end_time": "2023-04-25T05:16:08.323330Z"
    }
   }
  },
  {
   "cell_type": "code",
   "execution_count": null,
   "outputs": [],
   "source": [
    "%%timeit\n",
    "for batch in train_dataset:\n",
    "    pass"
   ],
   "metadata": {
    "collapsed": false,
    "ExecuteTime": {
     "start_time": "2023-04-25T05:16:08.365463Z",
     "end_time": "2023-04-25T05:25:09.754290Z"
    }
   }
  },
  {
   "cell_type": "code",
   "execution_count": null,
   "outputs": [],
   "source": [],
   "metadata": {
    "collapsed": false
   }
  },
  {
   "cell_type": "code",
   "execution_count": null,
   "outputs": [],
   "source": [
    "test_c"
   ],
   "metadata": {
    "collapsed": false,
    "ExecuteTime": {
     "start_time": "2023-04-25T04:17:33.245974Z",
     "end_time": "2023-04-25T04:17:33.254819Z"
    }
   }
  },
  {
   "cell_type": "code",
   "execution_count": null,
   "outputs": [],
   "source": [
    "a = normalizer(text)"
   ],
   "metadata": {
    "collapsed": false,
    "ExecuteTime": {
     "start_time": "2023-04-22T23:35:26.873752Z",
     "end_time": "2023-04-22T23:35:27.500309Z"
    }
   }
  },
  {
   "cell_type": "code",
   "execution_count": 19,
   "outputs": [
    {
     "data": {
      "text/plain": "'По словам се оу и главного инженера старши Илона Маска, п в будущем заменит фалкон девять и фалкон хеви грузовой и пилотируемый сругин,'"
     },
     "execution_count": 19,
     "metadata": {},
     "output_type": "execute_result"
    }
   ],
   "source": [
    "a"
   ],
   "metadata": {
    "collapsed": false,
    "ExecuteTime": {
     "start_time": "2023-04-22T23:35:27.729501Z",
     "end_time": "2023-04-22T23:35:27.730354Z"
    }
   }
  },
  {
   "cell_type": "code",
   "execution_count": 25,
   "outputs": [],
   "source": [
    "_whitespace_re = re.compile(r'[^a-zA-Z0-9А-Яа-яЁё]+')"
   ],
   "metadata": {
    "collapsed": false,
    "ExecuteTime": {
     "start_time": "2023-04-22T23:37:29.127360Z",
     "end_time": "2023-04-22T23:37:29.170763Z"
    }
   }
  },
  {
   "cell_type": "code",
   "execution_count": 27,
   "outputs": [
    {
     "data": {
      "text/plain": "'По словам CEO и главного инженера SpaceX Илона Маска Starship в будущем заменит Falcon 9 и Falcon Heavy грузовой и пилотируемый Dragon V2 11 '"
     },
     "execution_count": 27,
     "metadata": {},
     "output_type": "execute_result"
    }
   ],
   "source": [
    "a = \" \".join(re.split(_whitespace_re, text))\n",
    "a"
   ],
   "metadata": {
    "collapsed": false,
    "ExecuteTime": {
     "start_time": "2023-04-22T23:37:36.372819Z",
     "end_time": "2023-04-22T23:37:36.379185Z"
    }
   }
  },
  {
   "cell_type": "code",
   "execution_count": 28,
   "outputs": [
    {
     "data": {
      "text/plain": "'По словам се оу и главного инженера спасекс Илона Маска пятшип в будущем заменит фалкон девять и фалкон хеви грузовой и пилотируемый драгон в дв грузовой и пилотируемый в одиннадцать '"
     },
     "execution_count": 28,
     "metadata": {},
     "output_type": "execute_result"
    }
   ],
   "source": [
    "normalizer(a)"
   ],
   "metadata": {
    "collapsed": false,
    "ExecuteTime": {
     "start_time": "2023-04-22T23:37:43.295701Z",
     "end_time": "2023-04-22T23:37:43.917195Z"
    }
   }
  },
  {
   "cell_type": "code",
   "execution_count": 30,
   "outputs": [
    {
     "data": {
      "text/plain": "'По словам се оу и главного инженера спасекс Илона Маска пятшип в будущем заменит фалкон девять и фалкон хеви грузовой и пилотируемый драгон в дв грузовой и пилотируемый в одиннадцать '"
     },
     "execution_count": 30,
     "metadata": {},
     "output_type": "execute_result"
    }
   ],
   "source": [
    "a = normalizer(a)\n",
    "a"
   ],
   "metadata": {
    "collapsed": false,
    "ExecuteTime": {
     "start_time": "2023-04-23T00:02:48.123627Z",
     "end_time": "2023-04-23T00:02:48.574830Z"
    }
   }
  },
  {
   "cell_type": "code",
   "execution_count": 32,
   "outputs": [
    {
     "data": {
      "text/plain": "['По',\n 'словам',\n 'се',\n 'оу',\n 'и',\n 'главного',\n 'инженера',\n 'спасекс',\n 'Илона',\n 'Маска',\n 'пятшип',\n 'в',\n 'будущем',\n 'заменит',\n 'фалкон',\n 'девять',\n 'и',\n 'фалкон',\n 'хеви',\n 'грузовой',\n 'и',\n 'пилотируемый',\n 'драгон',\n 'в',\n 'дв',\n 'грузовой',\n 'и',\n 'пилотируемый',\n 'в',\n 'одиннадцать',\n '']"
     },
     "execution_count": 32,
     "metadata": {},
     "output_type": "execute_result"
    }
   ],
   "source": [
    "a.split(\" \")"
   ],
   "metadata": {
    "collapsed": false,
    "ExecuteTime": {
     "start_time": "2023-04-23T00:03:44.399049Z",
     "end_time": "2023-04-23T00:03:44.415782Z"
    }
   }
  },
  {
   "cell_type": "code",
   "execution_count": 34,
   "outputs": [
    {
     "data": {
      "text/plain": "'PA SLAVAM S0I AU I GLAVNAVA INZHYN0IRA SPAS0IKS ILANA MASKA P0ITSHYP F BUDUSH0IM ZAM0IN0IT FALKAN D0IV0IT0 I FALKAN KH0IV0I GRUZAVAJ0 I P0ILAT0IRUJ0IMYJ0 DRAGAN F TF GRUZAVAJ0 I P0ILAT0IRUJ0IMYJ0 F AD0INATSAT0'"
     },
     "execution_count": 34,
     "metadata": {},
     "output_type": "execute_result"
    }
   ],
   "source": [],
   "metadata": {
    "collapsed": false,
    "ExecuteTime": {
     "start_time": "2023-04-23T00:05:58.638284Z",
     "end_time": "2023-04-23T00:05:58.681817Z"
    }
   }
  },
  {
   "cell_type": "code",
   "execution_count": 2,
   "outputs": [],
   "source": [
    "norm = Normalizer()"
   ],
   "metadata": {
    "collapsed": false
   }
  },
  {
   "cell_type": "code",
   "execution_count": 12,
   "outputs": [
    {
     "name": "stdout",
     "output_type": "stream",
     "text": [
      "через сто тысяч лет жизнь на земле оборвётся и семь ноль ноль ноль ноль ноль пятьсот людей умрёт\n"
     ]
    }
   ],
   "source": [
    "text = norm.norm_text(text)\n",
    "print(text)"
   ],
   "metadata": {
    "collapsed": false,
    "ExecuteTime": {
     "start_time": "2023-04-22T09:24:44.479026Z",
     "end_time": "2023-04-22T09:24:44.656548Z"
    }
   }
  },
  {
   "cell_type": "code",
   "execution_count": 14,
   "outputs": [],
   "source": [
    "text"
   ],
   "metadata": {
    "collapsed": false,
    "ExecuteTime": {
     "start_time": "2023-04-22T09:21:33.016078Z",
     "end_time": "2023-04-22T09:21:33.031711Z"
    }
   }
  },
  {
   "cell_type": "code",
   "execution_count": 7,
   "outputs": [
    {
     "data": {
      "text/plain": "['S0',\n 'I',\n 'V',\n 'A',\n 'D',\n 'N0',\n 'A',\n 'D',\n 'V',\n 'A',\n 'TS',\n 'A',\n 'T0',\n 'P0',\n 'I',\n 'T',\n 'A',\n 'V',\n 'A',\n 'I',\n 'J0',\n 'U',\n 'N0',\n 'A',\n 'M',\n 'Y',\n 'D0',\n 'I',\n 'L',\n 'A',\n 'J0',\n 'I',\n 'M',\n 'P',\n 'R',\n 'A',\n 'G',\n 'R',\n 'A',\n 'M',\n 'U',\n 'D0',\n 'I',\n 'P',\n 'R0',\n 'I',\n 'K',\n 'A',\n 'SH',\n 'Y',\n 'N',\n 'V',\n 'A',\n 'R',\n 'N0',\n 'I',\n 'N',\n 'G',\n 'D',\n 'V',\n 'A']"
     },
     "execution_count": 7,
     "metadata": {},
     "output_type": "execute_result"
    }
   ],
   "source": [
    "\n",
    "a(text)"
   ],
   "metadata": {
    "collapsed": false,
    "ExecuteTime": {
     "start_time": "2023-04-22T09:19:49.771066Z",
     "end_time": "2023-04-22T09:19:49.830146Z"
    }
   }
  },
  {
   "cell_type": "code",
   "execution_count": 4,
   "outputs": [],
   "source": [],
   "metadata": {
    "collapsed": false,
    "ExecuteTime": {
     "start_time": "2023-04-22T09:19:15.628589Z",
     "end_time": "2023-04-22T09:19:15.633640Z"
    }
   }
  },
  {
   "cell_type": "code",
   "execution_count": 4,
   "outputs": [],
   "source": [],
   "metadata": {
    "collapsed": false,
    "ExecuteTime": {
     "start_time": "2023-04-22T09:19:15.633976Z",
     "end_time": "2023-04-22T09:19:15.640167Z"
    }
   }
  },
  {
   "cell_type": "code",
   "execution_count": 4,
   "outputs": [],
   "source": [],
   "metadata": {
    "collapsed": false,
    "ExecuteTime": {
     "start_time": "2023-04-22T09:19:15.638982Z",
     "end_time": "2023-04-22T09:19:15.687077Z"
    }
   }
  },
  {
   "cell_type": "code",
   "execution_count": 4,
   "outputs": [],
   "source": [],
   "metadata": {
    "collapsed": false,
    "ExecuteTime": {
     "start_time": "2023-04-22T09:19:15.685105Z",
     "end_time": "2023-04-22T09:19:15.687352Z"
    }
   }
  },
  {
   "cell_type": "code",
   "execution_count": 4,
   "outputs": [],
   "source": [],
   "metadata": {
    "collapsed": false,
    "ExecuteTime": {
     "start_time": "2023-04-22T09:19:15.685198Z",
     "end_time": "2023-04-22T09:19:15.687495Z"
    }
   }
  },
  {
   "cell_type": "code",
   "execution_count": 4,
   "outputs": [],
   "source": [],
   "metadata": {
    "collapsed": false,
    "ExecuteTime": {
     "start_time": "2023-04-22T09:19:15.685259Z",
     "end_time": "2023-04-22T09:19:15.687633Z"
    }
   }
  }
 ],
 "metadata": {
  "kernelspec": {
   "display_name": "Python 3",
   "language": "python",
   "name": "python3"
  },
  "language_info": {
   "codemirror_mode": {
    "name": "ipython",
    "version": 2
   },
   "file_extension": ".py",
   "mimetype": "text/x-python",
   "name": "python",
   "nbconvert_exporter": "python",
   "pygments_lexer": "ipython2",
   "version": "2.7.6"
  }
 },
 "nbformat": 4,
 "nbformat_minor": 0
}
